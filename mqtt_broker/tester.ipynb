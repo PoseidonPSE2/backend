{
 "cells": [
  {
   "cell_type": "code",
   "execution_count": 6,
   "metadata": {},
   "outputs": [
    {
     "name": "stdout",
     "output_type": "stream",
     "text": [
      "Requirement already satisfied: paho-mqtt in /opt/homebrew/Caskroom/miniconda/base/envs/myenv/lib/python3.9/site-packages (2.1.0)\n",
      "Note: you may need to restart the kernel to use updated packages.\n"
     ]
    }
   ],
   "source": [
    "%pip install paho-mqtt\n",
    "\n",
    "import time\n",
    "import paho.mqtt.client as mqtt"
   ]
  },
  {
   "cell_type": "code",
   "execution_count": 7,
   "metadata": {},
   "outputs": [],
   "source": [
    "# MQTT broker configuration\n",
    "broker_address = \"168.220.82.193\"  # Replace with your broker's address\n",
    "broker_port = 1883  # MQTT default port\n",
    "topic = \"test/topic\"  # Topic to publish to\n",
    "username = \"poseidon\"  # Replace with your MQTT broker username\n",
    "password = \"poseidon\"  # Replace with your MQTT broker password"
   ]
  },
  {
   "cell_type": "code",
   "execution_count": 8,
   "metadata": {},
   "outputs": [
    {
     "name": "stderr",
     "output_type": "stream",
     "text": [
      "/var/folders/nr/mg0w99s91kg0rvjr9xkypfwh0000gn/T/ipykernel_478/1266124155.py:2: DeprecationWarning: Callback API version 1 is deprecated, update to latest version\n",
      "  client = mqtt.Client()\n"
     ]
    }
   ],
   "source": [
    "# Create an MQTT client instance\n",
    "client = mqtt.Client()\n",
    "\n",
    "client.username_pw_set(username, password)"
   ]
  },
  {
   "cell_type": "code",
   "execution_count": 18,
   "metadata": {},
   "outputs": [
    {
     "name": "stdout",
     "output_type": "stream",
     "text": [
      "Message published!\n"
     ]
    },
    {
     "ename": "KeyboardInterrupt",
     "evalue": "",
     "output_type": "error",
     "traceback": [
      "\u001b[0;31m---------------------------------------------------------------------------\u001b[0m",
      "\u001b[0;31mKeyboardInterrupt\u001b[0m                         Traceback (most recent call last)",
      "Cell \u001b[0;32mIn[18], line 31\u001b[0m\n\u001b[1;32m     28\u001b[0m client\u001b[38;5;241m.\u001b[39mpublish(topic, message)\n\u001b[1;32m     30\u001b[0m \u001b[38;5;66;03m# Start the network loop\u001b[39;00m\n\u001b[0;32m---> 31\u001b[0m \u001b[43mclient\u001b[49m\u001b[38;5;241;43m.\u001b[39;49m\u001b[43mloop_forever\u001b[49m\u001b[43m(\u001b[49m\u001b[43m)\u001b[49m\n",
      "File \u001b[0;32m/opt/homebrew/Caskroom/miniconda/base/envs/myenv/lib/python3.9/site-packages/paho/mqtt/client.py:2318\u001b[0m, in \u001b[0;36mClient.loop_forever\u001b[0;34m(self, timeout, retry_first_connection)\u001b[0m\n\u001b[1;32m   2316\u001b[0m     run \u001b[38;5;241m=\u001b[39m \u001b[38;5;28;01mFalse\u001b[39;00m\n\u001b[1;32m   2317\u001b[0m \u001b[38;5;28;01melse\u001b[39;00m:\n\u001b[0;32m-> 2318\u001b[0m     \u001b[38;5;28;43mself\u001b[39;49m\u001b[38;5;241;43m.\u001b[39;49m\u001b[43m_reconnect_wait\u001b[49m\u001b[43m(\u001b[49m\u001b[43m)\u001b[49m\n\u001b[1;32m   2320\u001b[0m     \u001b[38;5;28;01mif\u001b[39;00m should_exit():\n\u001b[1;32m   2321\u001b[0m         run \u001b[38;5;241m=\u001b[39m \u001b[38;5;28;01mFalse\u001b[39;00m\n",
      "File \u001b[0;32m/opt/homebrew/Caskroom/miniconda/base/envs/myenv/lib/python3.9/site-packages/paho/mqtt/client.py:4546\u001b[0m, in \u001b[0;36mClient._reconnect_wait\u001b[0;34m(self)\u001b[0m\n\u001b[1;32m   4541\u001b[0m remaining \u001b[38;5;241m=\u001b[39m target_time \u001b[38;5;241m-\u001b[39m now\n\u001b[1;32m   4542\u001b[0m \u001b[38;5;28;01mwhile\u001b[39;00m (\u001b[38;5;28mself\u001b[39m\u001b[38;5;241m.\u001b[39m_state \u001b[38;5;129;01mnot\u001b[39;00m \u001b[38;5;129;01min\u001b[39;00m (_ConnectionState\u001b[38;5;241m.\u001b[39mMQTT_CS_DISCONNECTING, _ConnectionState\u001b[38;5;241m.\u001b[39mMQTT_CS_DISCONNECTED)\n\u001b[1;32m   4543\u001b[0m         \u001b[38;5;129;01mand\u001b[39;00m \u001b[38;5;129;01mnot\u001b[39;00m \u001b[38;5;28mself\u001b[39m\u001b[38;5;241m.\u001b[39m_thread_terminate\n\u001b[1;32m   4544\u001b[0m         \u001b[38;5;129;01mand\u001b[39;00m remaining \u001b[38;5;241m>\u001b[39m \u001b[38;5;241m0\u001b[39m):\n\u001b[0;32m-> 4546\u001b[0m     \u001b[43mtime\u001b[49m\u001b[38;5;241;43m.\u001b[39;49m\u001b[43msleep\u001b[49m\u001b[43m(\u001b[49m\u001b[38;5;28;43mmin\u001b[39;49m\u001b[43m(\u001b[49m\u001b[43mremaining\u001b[49m\u001b[43m,\u001b[49m\u001b[43m \u001b[49m\u001b[38;5;241;43m1\u001b[39;49m\u001b[43m)\u001b[49m\u001b[43m)\u001b[49m\n\u001b[1;32m   4547\u001b[0m     remaining \u001b[38;5;241m=\u001b[39m target_time \u001b[38;5;241m-\u001b[39m time_func()\n",
      "\u001b[0;31mKeyboardInterrupt\u001b[0m: "
     ]
    }
   ],
   "source": [
    "# Callback functions\n",
    "def on_connect(client, userdata, flags, rc):\n",
    "    print(\"Connected with result code \" + str(rc))\n",
    "    # Subscribe to all topics\n",
    "    client.subscribe(\"#\")  # Subscribe to all topics using wildcard \"#\"\n",
    "\n",
    "def on_publish(client, userdata, mid):\n",
    "    print(\"Message published!\")\n",
    "\n",
    "# Callback function when a message is received from the broker\n",
    "def on_message(client, userdata, msg):\n",
    "    print(f\"Received message '{msg.payload.decode()}' on topic '{msg.topic}'\")\n",
    "\n",
    "# Assign callback functions\n",
    "client.on_connect = on_connect\n",
    "client.on_publish = on_publish\n",
    "client.on_message = on_message\n",
    "\n",
    "# Connect to the broker\n",
    "client.connect(broker_address, broker_port)\n",
    "\n",
    "# Wait for connection to establish\n",
    "client.loop_start()\n",
    "time.sleep(2)  # Adjust if needed to wait for the connection to establish\n",
    "\n",
    "# Publish a message\n",
    "message = \"Hello, MQTT!\"\n",
    "client.publish(topic, message)\n",
    "\n",
    "# Start the network loop\n",
    "client.loop_forever()\n"
   ]
  },
  {
   "cell_type": "code",
   "execution_count": null,
   "metadata": {},
   "outputs": [],
   "source": [
    "# Disconnect from the broker\n",
    "client.disconnect()\n",
    "client.loop_stop()\n",
    "\n",
    "print(\"Program completed.\")"
   ]
  }
 ],
 "metadata": {
  "kernelspec": {
   "display_name": "myenv",
   "language": "python",
   "name": "python3"
  },
  "language_info": {
   "codemirror_mode": {
    "name": "ipython",
    "version": 3
   },
   "file_extension": ".py",
   "mimetype": "text/x-python",
   "name": "python",
   "nbconvert_exporter": "python",
   "pygments_lexer": "ipython3",
   "version": "3.9.19"
  }
 },
 "nbformat": 4,
 "nbformat_minor": 2
}
